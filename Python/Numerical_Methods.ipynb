{
 "cells": [
  {
   "cell_type": "markdown",
   "metadata": {},
   "source": [
    "<h1><center> Méthodes Numériques </center></h1>"
   ]
  },
  {
   "cell_type": "code",
   "execution_count": 65,
   "metadata": {},
   "outputs": [
    {
     "name": "stdout",
     "output_type": "stream",
     "text": [
      "======================================================================================================================================\n"
     ]
    },
    {
     "data": {
      "text/html": [
       "<div style='text-align:center'>Approximation de l'intégrale sur l'intervalle [0.0, 3.14]</div>"
      ],
      "text/plain": [
       "<IPython.core.display.HTML object>"
      ]
     },
     "metadata": {},
     "output_type": "display_data"
    },
    {
     "data": {
      "text/html": [
       "<div style='text-align:center'>Nombre d'itérations: 4</div>"
      ],
      "text/plain": [
       "<IPython.core.display.HTML object>"
      ]
     },
     "metadata": {},
     "output_type": "display_data"
    },
    {
     "data": {
      "text/html": [
       "<div style='text-align:center'>Valeur approchée: 2.000269134 ; Valeur exacte: 1.999999996</div>"
      ],
      "text/plain": [
       "<IPython.core.display.HTML object>"
      ]
     },
     "metadata": {},
     "output_type": "display_data"
    },
    {
     "data": {
      "text/html": [
       "<div style='text-align:center'>Delta: 0.000269138</div>"
      ],
      "text/plain": [
       "<IPython.core.display.HTML object>"
      ]
     },
     "metadata": {},
     "output_type": "display_data"
    },
    {
     "name": "stdout",
     "output_type": "stream",
     "text": [
      "======================================================================================================================================\n"
     ]
    },
    {
     "data": {
      "text/plain": [
       "2.00026916994839"
      ]
     },
     "execution_count": 65,
     "metadata": {},
     "output_type": "execute_result"
    }
   ],
   "source": [
    "from IPython.core.display import display, HTML\n",
    "\n",
    "def printCenter(content):\n",
    "    display(HTML(f\"<div style='text-align:center'>{content}</div>\"))\n",
    "def printSeparator():\n",
    "    strg = '======================================================================================================================================'\n",
    "    print(strg)\n",
    "\n",
    "class Function:\n",
    "    def __init__(self, func):\n",
    "        self.func = func\n",
    "\n",
    "    ''' Fonction qui approxime une valeur par une méthode itérative pour n fixé ou pour une erreur fixée. '''\n",
    "    def runApproximation(self, decimal, preciseValue, approxValue: function, delta, forceIterationNb = None):\n",
    "        if forceIterationNb != None:\n",
    "                printCenter(f\"Nombre d'itérations: {forceIterationNb}\")\n",
    "                printCenter(f\"Valeur approchée: {round(approxValue(forceIterationNb), decimal + 4)} ; Valeur exacte: {round(preciseValue, decimal + 4)}\")\n",
    "                printCenter(f\"Delta: {round(delta(forceIterationNb), decimal + 4)}\")        \n",
    "        else:\n",
    "            n = 1\n",
    "            while delta(n) > 10**(-decimal): n += 1\n",
    "\n",
    "            printCenter(f\"Nombre d'itérations: {n}\")\n",
    "            printCenter(f\"Valeur approchée: {round(approxValue(n), decimal + 4)} ; Valeur exacte: {round(preciseValue, decimal + 4)}\")\n",
    "            printCenter(f\"Delta: {round(delta(n), decimal + 4)}\")   \n",
    "\n",
    "    ''' Available methods : {\"Dichotomy\", \"FixedPoint\", \"NewtonRaphson\"}'''\n",
    "    def numericalRootFinder(self, a, b, f, decimal, method, forceIterationNb = None):\n",
    "        \n",
    "        if f(a)*f(b) > 0: raise Exception(\"No root in initial interval.\")\n",
    "        var(\"x\")\n",
    "\n",
    "        def dichotomyMethod(a, b, f, n):    \n",
    "            i = 0\n",
    "\n",
    "            # Tant que l'error est trop grande, on divise les sous intervalles en deux et on choisit l'intervalle qui contient la racine\n",
    "            while i <= n: \n",
    "                middlePoint = (b+a)/2\n",
    "                i += 1\n",
    "\n",
    "                if f(a) * f(middlePoint) <= 0:\n",
    "                    b = middlePoint\n",
    "                elif f(b) * f(middlePoint) <= 0:\n",
    "                    a = middlePoint\n",
    "\n",
    "            # L'intervalle final (a, b) contient la racine et on choisit (a+b)/2 comme approximation\n",
    "            return numerical_approx((a + b)/2)\n",
    "        def fixedPointMethod(a, b, f, n):\n",
    "            # On reformule la recherche des racines de f en terme de recherche de points fixe de g\n",
    "            g = lambda x : f(x) + x\n",
    "            # Point initial\n",
    "            x0 = (b+a)/2\n",
    "            \n",
    "            # Constante de contraction de f\n",
    "            derivative = diff(f(x), x)\n",
    "            k = find_local_maximum(abs(derivative),a,b)[0]\n",
    "            if k > 1: raise Exception(\"Function is not a contraction.\")\n",
    "            \n",
    "            i = 0\n",
    "            # Tant que l'erreur est trop grande, on réapplique g à x0\n",
    "            while i <= n: \n",
    "                i += 1\n",
    "                x0 = g(x0)\n",
    "            \n",
    "            return numerical_approx(x0)\n",
    "        def newtonRaphsonMethod(a, b, f, n):    \n",
    "            if n > 100: raise Exception(\"Method did not converge after the maximum number of iterations allowed (100).\") \n",
    "\n",
    "            # Point initial\n",
    "            x0 = (b+a)/2\n",
    "            \n",
    "            derivative = diff(f(x), x)    \n",
    "            i = 0\n",
    "            # Tant que l'erreur est trop grande, on trace la tangente et le nouveau point est l'intersection avec Ox\n",
    "            while i <= n: \n",
    "                i += 1\n",
    "                x0 = x0 - f(x0)/derivative(x = x0)\n",
    "            return numerical_approx(x0)\n",
    "        \n",
    "        methods = {\n",
    "            \"Dichotomy\": dichotomyMethod,\n",
    "            \"FixedPoint\": fixedPointMethod,\n",
    "            \"NewtonRaphson\": newtonRaphsonMethod,\n",
    "        }\n",
    "        \n",
    "        preciseValue = find_root(f, a, b)\n",
    "        approxValue = lambda n : methods[method](a, b, f, n)\n",
    "        delta = lambda n : abs(preciseValue - approxValue(n))\n",
    "\n",
    "        return self.runApproximation(decimal, preciseValue, approxValue, delta, forceIterationNb)\n",
    "\n",
    "    ''' Available methods : {\"MiddlePoint\", \"Trapezoid\", \"Simpson\"}'''\n",
    "    def numericalIntegration(self, a, b, f, decimal, method, forceIterationNb = None):\n",
    "        middlePoint = lambda f, a, b : (b - a) * f((a + b)/2)\n",
    "        trapezoid = lambda f, a, b : (b - a) * ((f(a) + f(b))/2)\n",
    "        simpson = lambda f, a, b : (b-a)*(f(a)+4*f((a + b)/2) + f(b))/6   \n",
    "        methods = {\n",
    "            \"MiddlePoint\": middlePoint,\n",
    "            \"Trapezoid\": trapezoid,\n",
    "            \"Simpson\": simpson,\n",
    "        }  \n",
    "\n",
    "        # Crée une subdivision régulière de [a, b] et approxime l'intégrale par une méthode donnée sur tout les sous-segments\n",
    "        def compositeMethode(f, a, b, n, method): \n",
    "            points = [a + k*(b - a)/n for k in range(n + 1)]\n",
    "            area = 0\n",
    "            for i in range(len(points)-1):\n",
    "                area += method(f, points[i], points[i+1])\n",
    "            return area\n",
    "        \n",
    "        preciseValue = integrate(f(x), x, a,b)\n",
    "\n",
    "        approxValue = lambda n : compositeMethode(f, a, b, n, methods[method])\n",
    "        delta = lambda n : abs(preciseValue - approxValue(n))\n",
    "\n",
    "        return self.runApproximation(decimal, preciseValue, approxValue, delta, forceIterationNb)\n",
    "\n",
    "    ''' Available methods : {\"Newton\", \"Lagrange\"}'''\n",
    "    def interpolate(self, f, points, method):\n",
    "        \n",
    "        def lagrangeBasis(liste):  # Retourne la base de Lagrange associée aux points de L\n",
    "            basis = []\n",
    "            var(\"x\")\n",
    "            for i in range(len(liste)):\n",
    "                P = 1\n",
    "                for j in range(len(liste)):\n",
    "                    if i != j:\n",
    "                        P *= (x - liste[j]) / (liste[i] - liste[j])\n",
    "                basis.append(P)\n",
    "            return basis\n",
    "        def lagrangeMethod(f, points):\n",
    "            return sum([f(points[i]) * lagrangeBasis(points)[i] for i in range(len(points))]) \n",
    "\n",
    "        def dividedDiff(liste, f):  # Différences divisées récursivement\n",
    "            n = len(liste)\n",
    "            if n == 1:\n",
    "                return f(liste[0])\n",
    "            else:\n",
    "                L1 = liste[-n + 1 :]\n",
    "                L2 = liste[0 : n - 1]\n",
    "                return (dividedDiff(L1, f) - dividedDiff(L2, f)) / (liste[n - 1] - liste[0])\n",
    "        def newtonPolynomial(liste):  # On calcule le n-ième polynome de la base de Newton associée aux points de L\n",
    "            var(\"x\")\n",
    "            polynomial = 1\n",
    "\n",
    "            if len(liste) == 0:\n",
    "                return 1\n",
    "            for i in range(len(liste)):\n",
    "                polynomial *= x - liste[i]\n",
    "            return polynomial\n",
    "        def newtonMethod(f, points):\n",
    "            polynomial = 0\n",
    "            for i in range(1, len(points) + 1):\n",
    "                coeff = dividedDiff(points[0:i], f)  # On calcule la différence divisée associée à [x0, ..., xi]\n",
    "                polynomial += coeff * newtonPolynomial(points[0 : i - 1])  # Le polynome est egal a la f[x0, ..., xi] * N_xi\n",
    "            return polynomial\n",
    "\n",
    "        methods = {\n",
    "            \"Newton\": newtonMethod,\n",
    "            \"Lagrange\": lagrangeMethod\n",
    "        }\n",
    "        return methods[method](f, points)\n",
    "\n",
    "decimalPlaces = 5\n",
    "function = Function(lambda x : sin(x))\n",
    "p = lambda x : function.interpolate(function.func, [0, 2], \"Newton\")(x)\n",
    "\n",
    "#printSeparator()\n",
    "#printCenter(f\"Approximation de la racine dans l'intervalle [{round(0.5,2)}, {round(1,2)}]\")\n",
    "#function.numericalRootFinder(*(0.5, 1), function.func, decimalPlaces, \"Dichotomy\", 5)\n",
    "printSeparator()\n",
    "printCenter(f\"Approximation de l'intégrale sur l'intervalle [{round(0,2)}, {round(3.14,2)}]\")\n",
    "function.numericalIntegration(*(0, 3.1415), function.func, decimalPlaces, \"Simpson\", 4)\n",
    "printSeparator()\n"
   ]
  },
  {
   "cell_type": "code",
   "execution_count": null,
   "metadata": {},
   "outputs": [],
   "source": []
  }
 ],
 "metadata": {
  "kernelspec": {
   "display_name": "SageMath 9.3",
   "language": "sage",
   "name": "sagemath"
  },
  "language_info": {
   "codemirror_mode": {
    "name": "ipython",
    "version": 3
   },
   "file_extension": ".py",
   "mimetype": "text/x-python",
   "name": "python",
   "nbconvert_exporter": "python",
   "pygments_lexer": "ipython3",
   "version": "3.7.10"
  }
 },
 "nbformat": 4,
 "nbformat_minor": 2
}
