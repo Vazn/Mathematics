{
 "cells": [
  {
   "cell_type": "code",
   "execution_count": 2,
   "metadata": {
    "vscode": {
     "languageId": "python"
    }
   },
   "outputs": [],
   "source": [
    "def approx(x):\n",
    "   return numerical_approx(x, digits=4)\n",
    "def analyticSolution(f):\n",
    "   x = var('x')\n",
    "   y = function('y')(x)\n",
    "   return desolve(diff(y, x) - f, y, ics=[-2, -2])\n",
    "def LotkaVolterra(a, b, c, d):\n",
    "   return (x*(a-b*y), y*(-c + d*x))\n",
    "def pendulum():\n",
    "   return (y/(sqrt(y^2+sin(x)^2)), -sin(x)/(sqrt(y^2+sin(x)^2)))\n",
    "def eulerMethod(F, time, stepSize, *initialConditions): # Take a vector field, and approximate a flow line given initial conditions, and over time t\n",
    "   n = floor(time / stepSize)     # Number of iterations necessary for achieving time t\n",
    "\n",
    "   L = []\n",
    "   P0 = vector(initialConditions)\n",
    "   for i in range(n):\n",
    "      L.append(P0)\n",
    "      P0 = vector(tuple(approx(P0[i]) for i in range(len(initialConditions))))  \n",
    "      P0 = P0 + stepSize*F(*P0) # gamma(t0 + h) ~ gamma(t0) + hgamma'(t0) = gamma(t0) + hF(gamma(t0))\n",
    "   return L\n",
    "def ligneBrisee(pointList): # Prends une liste de points et le relie par des segments\n",
    "   L = []\n",
    "   for j in range(len(pointList)-1):\n",
    "      L.append(line([pointList[j], pointList[j + 1]]))\n",
    "\n",
    "   return L # Liste de lignes\n",
    "   \n",
    "def pointListToPgfPlot(L, outputPath): # Procedure converting a list of points to a pgfplot readable data file\n",
    "   with open(outputPath, 'w') as f:\n",
    "      f.write('x y')\n",
    "      f.write('\\n')\n",
    "      for line in L:\n",
    "         f.write('{xvalue} {yvalue}'.format(xvalue = line[0], yvalue = line[1]))\n",
    "         f.write('\\n')"
   ]
  },
  {
   "cell_type": "markdown",
   "metadata": {},
   "source": [
    "**Exercice d'application:** le système différentiele de Lotka\\-Volterra permet de modéliser l'évolution conjointe de populations de proies et de prédateurs:\n",
    "\n",
    "$$\n",
    "x'(t)=x(t)(\\alpha-\\beta y(t))\\\\\n",
    "y'(t)=y(t)(\\delta x(t)-\\gamma)\n",
    "$$\n",
    "$x(t)$: La population de proies au temps $t$ \n",
    "\n",
    "$y(t)$: la population de prédateurs au temps $t$ \n",
    "\n",
    "$\\alpha$: le taux de reproduction des proies indépendamment des prédateurs recontrés\n",
    "\n",
    "$\\beta$: le taux de mortalité des prédateurs indépendamment du nombre de proies \n",
    "\n",
    "$\\delta$: le taux de reproduction des prédateurs en fonction des proies mangées.\n",
    "\n",
    "1. Ecrire les équations de récurrence vérifiées par les approximations $x_k$ et $y_k$ de la méthode d'Euler, appliquée au système différentiel ci\\-dessus.\n",
    "2. Ecrire des instructions Python ou sagemath pour stocker les listes $t,x$ et $t_k,x_k$ et $y_k$ . on chosira l'intervalle de temps et le nombre d'approximations judiciuesement et on prendre $\\alpha=\\beta=\\delta=\\gamma=1$ \n",
    "3. Afficher $y$ en fonction de $x$ et interpréter\n",
    "4. Afficher $y$ en fonction de $t$ et $x$ en fonction de $t$, sur le même dessin et interpréter\n",
    "5. Modifier les constantes $\\alpha, \\beta,\\delta,\\gamma$ .\n"
   ]
  },
  {
   "cell_type": "code",
   "execution_count": 1,
   "metadata": {
    "vscode": {
     "languageId": "python"
    }
   },
   "outputs": [
    {
     "ename": "NameError",
     "evalue": "name 'LotkaVolterra' is not defined",
     "output_type": "error",
     "traceback": [
      "\u001b[0;31m---------------------------------------------------------------------------\u001b[0m",
      "\u001b[0;31mNameError\u001b[0m                                 Traceback (most recent call last)",
      "\u001b[0;32m/tmp/ipykernel_57937/1944537671.py\u001b[0m in \u001b[0;36m<module>\u001b[0;34m\u001b[0m\n\u001b[1;32m      4\u001b[0m \u001b[0;34m\u001b[0m\u001b[0m\n\u001b[1;32m      5\u001b[0m \u001b[0m__tmp__\u001b[0m\u001b[0;34m=\u001b[0m\u001b[0mvar\u001b[0m\u001b[0;34m(\u001b[0m\u001b[0;34m\"x,y\"\u001b[0m\u001b[0;34m)\u001b[0m\u001b[0;34m;\u001b[0m \u001b[0mF\u001b[0m \u001b[0;34m=\u001b[0m \u001b[0msymbolic_expression\u001b[0m\u001b[0;34m(\u001b[0m\u001b[0;34m(\u001b[0m\u001b[0mInteger\u001b[0m\u001b[0;34m(\u001b[0m\u001b[0;36m1\u001b[0m\u001b[0;34m)\u001b[0m \u001b[0;34m,\u001b[0m \u001b[0mx\u001b[0m\u001b[0;34m**\u001b[0m\u001b[0mInteger\u001b[0m\u001b[0;34m(\u001b[0m\u001b[0;36m3\u001b[0m\u001b[0;34m)\u001b[0m \u001b[0;34m-\u001b[0m \u001b[0my\u001b[0m\u001b[0;34m**\u001b[0m\u001b[0mInteger\u001b[0m\u001b[0;34m(\u001b[0m\u001b[0;36m3\u001b[0m\u001b[0;34m)\u001b[0m\u001b[0;34m)\u001b[0m \u001b[0;34m)\u001b[0m\u001b[0;34m.\u001b[0m\u001b[0mfunction\u001b[0m\u001b[0;34m(\u001b[0m\u001b[0mx\u001b[0m\u001b[0;34m,\u001b[0m\u001b[0my\u001b[0m\u001b[0;34m)\u001b[0m\u001b[0;31m# Champ de vecteur qui correspond à l'EDO y'= x**3 - y**3\u001b[0m\u001b[0;34m\u001b[0m\u001b[0;34m\u001b[0m\u001b[0m\n\u001b[0;32m----> 6\u001b[0;31m \u001b[0m__tmp__\u001b[0m\u001b[0;34m=\u001b[0m\u001b[0mvar\u001b[0m\u001b[0;34m(\u001b[0m\u001b[0;34m\"x,y\"\u001b[0m\u001b[0;34m)\u001b[0m\u001b[0;34m;\u001b[0m \u001b[0mG\u001b[0m \u001b[0;34m=\u001b[0m \u001b[0msymbolic_expression\u001b[0m\u001b[0;34m(\u001b[0m\u001b[0mLotkaVolterra\u001b[0m\u001b[0;34m(\u001b[0m\u001b[0mInteger\u001b[0m\u001b[0;34m(\u001b[0m\u001b[0;36m1\u001b[0m\u001b[0;34m)\u001b[0m\u001b[0;34m,\u001b[0m \u001b[0mInteger\u001b[0m\u001b[0;34m(\u001b[0m\u001b[0;36m1\u001b[0m\u001b[0;34m)\u001b[0m\u001b[0;34m,\u001b[0m \u001b[0mInteger\u001b[0m\u001b[0;34m(\u001b[0m\u001b[0;36m1\u001b[0m\u001b[0;34m)\u001b[0m\u001b[0;34m,\u001b[0m \u001b[0mInteger\u001b[0m\u001b[0;34m(\u001b[0m\u001b[0;36m1\u001b[0m\u001b[0;34m)\u001b[0m\u001b[0;34m)\u001b[0m \u001b[0;34m)\u001b[0m\u001b[0;34m.\u001b[0m\u001b[0mfunction\u001b[0m\u001b[0;34m(\u001b[0m\u001b[0mx\u001b[0m\u001b[0;34m,\u001b[0m\u001b[0my\u001b[0m\u001b[0;34m)\u001b[0m\u001b[0;31m# Champ de vecteur qui correspond à l'EDO des equations de lotka volterra\u001b[0m\u001b[0;34m\u001b[0m\u001b[0;34m\u001b[0m\u001b[0m\n\u001b[0m\u001b[1;32m      7\u001b[0m \u001b[0m__tmp__\u001b[0m\u001b[0;34m=\u001b[0m\u001b[0mvar\u001b[0m\u001b[0;34m(\u001b[0m\u001b[0;34m\"x,y\"\u001b[0m\u001b[0;34m)\u001b[0m\u001b[0;34m;\u001b[0m \u001b[0mH\u001b[0m \u001b[0;34m=\u001b[0m \u001b[0msymbolic_expression\u001b[0m\u001b[0;34m(\u001b[0m\u001b[0mpendulum\u001b[0m\u001b[0;34m(\u001b[0m\u001b[0;34m)\u001b[0m \u001b[0;34m)\u001b[0m\u001b[0;34m.\u001b[0m\u001b[0mfunction\u001b[0m\u001b[0;34m(\u001b[0m\u001b[0mx\u001b[0m\u001b[0;34m,\u001b[0m\u001b[0my\u001b[0m\u001b[0;34m)\u001b[0m\u001b[0;31m# Champ de vecteur qui correspond à l'EDO x' = -y , y' = -z, z = y\u001b[0m\u001b[0;34m\u001b[0m\u001b[0;34m\u001b[0m\u001b[0m\n\u001b[1;32m      8\u001b[0m \u001b[0;34m\u001b[0m\u001b[0m\n",
      "\u001b[0;31mNameError\u001b[0m: name 'LotkaVolterra' is not defined"
     ]
    }
   ],
   "source": [
    "x, y, z = var('x y z')\n",
    "F = function('F')(x, y)\n",
    "G = function('G')(x, y, z)\n",
    "\n",
    "F(x, y) = (1 , x^3 - y^3) # Champ de vecteur qui correspond à l'EDO y'= x**3 - y**3\n",
    "G(x, y) = LotkaVolterra(1, 1, 1, 1) # Champ de vecteur qui correspond à l'EDO des equations de lotka volterra\n",
    "H(x, y) = pendulum() # Champ de vecteur qui correspond à l'EDO x' = -y , y' = -z, z = y\n",
    "\n",
    "# 2D Function Test\n",
    "#pointList = eulerMethod(F, 4, 0.001, 0, 0)\n",
    "#P2 = plot_vector_field(F,(x, -1, 4), (y, -1, 4))\n",
    "\n",
    "#lineList = ligneBrisee(pointList)\n",
    "#sum(lineList)\n",
    "\n",
    "# 2D General Test\n",
    "#pointsList = eulerMethod(G, 15, 0.001, 2, 2)\n",
    "#L1 = [(0.001*i, pointsList[i][1]) for i in range(len(pointsList))]\n",
    "#L2 = [(0.001*i, pointsList[i][0]) for i in range(len(pointsList))]\n",
    "#\n",
    "#P = polygon([(2,5), (2,3), (5,3), (5, 5)], color='white', axes=False)\n",
    "#G1 = point(pointsList) + plot_vector_field(G,(x, 0, 5), (y, 0, 5))\n",
    "#G2 = point(L1, color='red', size=1, xmin=0, frame=True) + point(L2, color='blue', size=1, xmin=0, frame=True) \n",
    "#G1.inset(P, pos = (0.55, 0.55, 0.4, 0.4)).inset(G2, pos = (0.60, 0.62, 0.32, 0.3))\n",
    "\n",
    "#point(periodicFlow, size=1) + point(aperiodicFlow) + plot_vector_field(H,(x, -3, 9), (y, -3.5, 3.5))\n",
    "\n",
    "# P1 = point(eulerMethod(G, 4, 0.001, 1, 1, 0), color='blue', size=10) \n",
    "# P2 = plot_vector_field3d(G,(x, -1, 1), (y, -1, 1), (z, -1, 1), colors = 'red')\n",
    "\n",
    "\n"
   ]
  },
  {
   "cell_type": "code",
   "execution_count": 78,
   "metadata": {
    "vscode": {
     "languageId": "python"
    }
   },
   "outputs": [],
   "source": [
    "# 2D Pendulum\n",
    "def computePendulumData():\n",
    "   # Précision presque idéale 0.0035\n",
    "   acc = 0.1\n",
    "   # Trajectoires apériodiques\n",
    "   aperiodicFlowPoints1 = eulerMethod(H, 12.5, acc, -3, 2) # Longueur d'arc 12.5\n",
    "   aperiodicFlowPoints2 = eulerMethod(H, 13, acc, -3, 1) # Longueur d'arc 13\n",
    "   aperiodicFlowPoints3 = eulerMethod(H, 13, acc, 9, -1) # Longueur d'arc 13\n",
    "   aperiodicFlowPoints4 = eulerMethod(H, 12.5, acc, 9, -2) # Longueur d'arc 12.5\n",
    "\n",
    "   # Trajectoires périodiques\n",
    "   periodicFlowPoints1 = eulerMethod(H, 12, acc, 2.14, 0) # Longueur d'arc 12\n",
    "   periodicFlowPoints2 = eulerMethod(H, 7, acc, 1.14, 0) # Longueur d'arc 7\n",
    "   periodicFlowPoints3 = eulerMethod(H, 12, acc, 4.14, 0) # Longueur d'arc 12\n",
    "   periodicFlowPoints4 = eulerMethod(H, 7, acc, 5.14, 0) # Longueur d'arc 7 \n",
    "   return [\n",
    "      aperiodicFlowPoints1, aperiodicFlowPoints2, aperiodicFlowPoints3, aperiodicFlowPoints4, periodicFlowPoints1, periodicFlowPoints2, periodicFlowPoints3, periodicFlowPoints4\n",
    "   ]\n",
    "\n",
    "def sendFormattedPendulumData(L):\n",
    "   pointListToPgfPlot(L[0], 'C:\\\\Users\\\\Archimedean\\\\Desktop\\\\Maths\\\\NumericalAnalysisProjects\\\\data\\\\aperiodic1.dat')\n",
    "   pointListToPgfPlot(L[1], 'C:\\\\Users\\\\Archimedean\\\\Desktop\\\\Maths\\\\NumericalAnalysisProjects\\\\data\\\\aperiodic2.dat')\n",
    "   pointListToPgfPlot(L[2], 'C:\\\\Users\\\\Archimedean\\\\Desktop\\\\Maths\\\\NumericalAnalysisProjects\\\\data\\\\aperiodic3.dat')\n",
    "   pointListToPgfPlot(L[3], 'C:\\\\Users\\\\Archimedean\\\\Desktop\\\\Maths\\\\NumericalAnalysisProjects\\\\data\\\\aperiodic4.dat')\n",
    "\n",
    "   pointListToPgfPlot(L[4], 'C:\\\\Users\\\\Archimedean\\\\Desktop\\\\Maths\\\\NumericalAnalysisProjects\\\\data\\\\periodic1.dat')\n",
    "   pointListToPgfPlot(L[5], 'C:\\\\Users\\\\Archimedean\\\\Desktop\\\\Maths\\\\NumericalAnalysisProjects\\\\data\\\\periodic2.dat')\n",
    "   pointListToPgfPlot(L[6], 'C:\\\\Users\\\\Archimedean\\\\Desktop\\\\Maths\\\\NumericalAnalysisProjects\\\\data\\\\periodic3.dat')\n",
    "   pointListToPgfPlot(L[7], 'C:\\\\Users\\\\Archimedean\\\\Desktop\\\\Maths\\\\NumericalAnalysisProjects\\\\data\\\\periodic4.dat')\n",
    "\n",
    "sendFormattedPendulumData(computePendulumData()) # Refresh data"
   ]
  }
 ],
 "metadata": {
  "kernelspec": {
   "display_name": "SageMath 9.5",
   "language": "sage",
   "name": "sagemath"
  },
  "language_info": {
   "codemirror_mode": {
    "name": "ipython",
    "version": 3
   },
   "file_extension": ".py",
   "mimetype": "text/x-python",
   "name": "sage",
   "nbconvert_exporter": "python",
   "pygments_lexer": "ipython3",
   "version": "3.10.12"
  }
 },
 "nbformat": 4,
 "nbformat_minor": 2
}
