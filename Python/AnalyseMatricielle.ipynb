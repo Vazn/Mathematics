{
 "cells": [
  {
   "cell_type": "markdown",
   "metadata": {},
   "source": [
    "# Calcul de conditionnement"
   ]
  },
  {
   "cell_type": "code",
   "execution_count": 137,
   "metadata": {
    "vscode": {
     "languageId": "python"
    }
   },
   "outputs": [
    {
     "data": {
      "text/plain": [
       "42.69110611493177"
      ]
     },
     "execution_count": 137,
     "metadata": {},
     "output_type": "execute_result"
    }
   ],
   "source": [
    "def hilbertMatrice(n):\n",
    "    return Matrix(RDF, [[1/(i+j-1) for i in range(1, n+1)] for j in range(1, n+1)])\n",
    "\n",
    "def heatEqDiscretization1(n):\n",
    "    M = 2*matrix.identity(RDF, n)\n",
    "    for i in range(n-1):\n",
    "        M[i, i+1] += -1\n",
    "        M[i+1, i] += -1\n",
    "    return M\n",
    "\n",
    "def heatEqDiscretization2(n):\n",
    "    M = 4*matrix.identity(RDF, n**2)\n",
    "    for i in range(n**2-1):\n",
    "        M[i, i+1] += -1\n",
    "        M[i+1, i] += -1\n",
    "    for i in range(n**2-n):\n",
    "        M[i, i+n] += -1\n",
    "        M[i+n, i] += -1\n",
    "\n",
    "    return M\n",
    "\n",
    "points1 = [(n, heatEqDiscretization1(n).condition(p=2)) for n in range(1,15)]\n",
    "points2 = [(n, heatEqDiscretization2(n).condition(p=2)) for n in range(1,15)]\n",
    "points3 = [(n, ln(hilbertMatrice(n).condition(p=2))) for n in range(1,15)]\n",
    "\n",
    "points(points2, color='red') + points(points1, color='blue') + points(points3, color='green')"
   ]
  },
  {
   "cell_type": "code",
   "execution_count": null,
   "metadata": {
    "vscode": {
     "languageId": "python"
    }
   },
   "outputs": [],
   "source": [
    "def findBiggestPivot(A): \n",
    "    return max(enumerate(A.column(0)), key = lambda x: abs(x[1]))\n",
    "\n",
    "def buildPermutationMatrix(size, r1, r2):\n",
    "    M = Matrix.identity(QQ, size)\n",
    "    M[r1, r1] = 0\n",
    "    M[r2 ,r2] = 0\n",
    "    M[r2, r1] = 1\n",
    "    M[r1 , r2] = 1\n",
    "    return M \n",
    "\n",
    "def eliminateBelow(A, pivotValue):\n",
    "    L = [1] \n",
    "    for i in range(1, A.nrows()):\n",
    "        coeff = A[i, 0]/pivotValue\n",
    "        A[i] -= coeff*A[0]\n",
    "        L.append(coeff)\n",
    "    return L\n",
    "\n",
    "def fillVectorWithZeros(vectorList, size): # Take a list of length decreasing vectors and fill them with zeros from the given side\n",
    "    for i in range(len(vectorList)):\n",
    "        zerosNeeded = (size - len(vectorList[i]))\n",
    "        vectorList[i] = zerosNeeded * [0] + list(vectorList[i])\n",
    "    return vectorList\n",
    "\n",
    "def fillMatrices(matrixList, size): # Take a list of size decreasing matrices and fill them with identity blocs\n",
    "    for i in range(len(matrixList)):\n",
    "        blockSizeNeeded = (size - matrixList[i].nrows())\n",
    "        matrixList[i] = block_diagonal_matrix(matrix.identity(blockSizeNeeded), matrixList[i])\n",
    "    return matrixList \n",
    "\n",
    "def gaussianElim(A, P, L, U):\n",
    "    if A.determinant() == 0: raise Exception('Non-invertible')\n",
    "    #print(A, \" before any swaps \\n\")\n",
    "\n",
    "    (pivotIndex, pivotValue) = findBiggestPivot(A) # Find max of pivot values\n",
    "\n",
    "    permutationMatrix = buildPermutationMatrix(A.nrows(), 0, pivotIndex)\n",
    "    P.append(permutationMatrix)\n",
    "    A = permutationMatrix*A\n",
    "\n",
    "    #print(A, \" after possible swaps \\n\")\n",
    "\n",
    "    U.append(A[0])\n",
    "    L.append(eliminateBelow(A, pivotValue))\n",
    "\n",
    "    #print(A, \" after elim L = \", L, \"\\n\")\n",
    "    if A.nrows() == 1: # Condition d'arrèt, on retourne la liste de lignes\n",
    "        return (fillMatrices(P, len(U[0])), fillVectorWithZeros(L, len(U[0])), fillVectorWithZeros(U, len(U[0])))\n",
    "    return gaussianElim(A.submatrix(1, 1), P, L, U)\n",
    "\n",
    "M = Matrix(QQ, [[15, 7, 3, 4], [10, 2, 16, 2], [5, 8, 10, 7], [1, 2, 3, 5]])\n",
    "(P, L, U) = gaussianElim(M, [], [], [])\n",
    "prod(P.reverse()) * column_matrix(L) * matrix(U)\n",
    "\n",
    "\n",
    "def methodTest():\n",
    "    successes = [0, 0, 0]\n",
    "    for i in range(1000):\n",
    "        A = random_matrix(QQ, 3)\n",
    "        while A.determinant() == 0:\n",
    "            A = random_matrix(QQ, 3)\n",
    "\n",
    "        P = prod(gaussianElim(A, [], [], [])[0])\n",
    "        L = column_matrix(gaussianElim(A, [], [], [])[1])\n",
    "        U = matrix(gaussianElim(A, [], [], [])[2])\n",
    "        \n",
    "        expected = A.LU(\"partial\")\n",
    "        if(P == expected[0]): successes[0] += 1\n",
    "        if(L == expected[1]): successes[1] += 1\n",
    "        if(U == expected[2]): successes[2] += 1\n",
    "\n",
    "    print(successes)"
   ]
  },
  {
   "cell_type": "markdown",
   "metadata": {},
   "source": [
    "# Méthodes directes"
   ]
  },
  {
   "cell_type": "code",
   "execution_count": null,
   "metadata": {
    "vscode": {
     "languageId": "python"
    }
   },
   "outputs": [],
   "source": [
    "def findBiggestPivot(A): \n",
    "    return max(enumerate(A.column(0)), key = lambda x: abs(x[1]))\n",
    "\n",
    "def buildPermutationMatrix(size, r1, r2):\n",
    "    M = Matrix.identity(QQ, size)\n",
    "    M[r1, r1] = 0\n",
    "    M[r2 ,r2] = 0\n",
    "    M[r2, r1] = 1\n",
    "    M[r1 , r2] = 1\n",
    "    return M \n",
    "\n",
    "def eliminateBelow(A, pivotValue):\n",
    "    L = [1] \n",
    "    for i in range(1, A.nrows()):\n",
    "        coeff = A[i, 0]/pivotValue\n",
    "        A[i] -= coeff*A[0]\n",
    "        L.append(coeff)\n",
    "    return L\n",
    "\n",
    "def fillVectorWithZeros(vectorList, size): # Take a list of length decreasing vectors and fill them with zeros from the given side\n",
    "    for i in range(len(vectorList)):\n",
    "        zerosNeeded = (size - len(vectorList[i]))\n",
    "        vectorList[i] = zerosNeeded * [0] + list(vectorList[i])\n",
    "    return vectorList\n",
    "\n",
    "def fillMatrices(matrixList, size): # Take a list of size decreasing matrices and fill them with identity blocs\n",
    "    for i in range(len(matrixList)):\n",
    "        blockSizeNeeded = (size - matrixList[i].nrows())\n",
    "        matrixList[i] = block_diagonal_matrix(matrix.identity(blockSizeNeeded), matrixList[i])\n",
    "    return matrixList \n",
    "\n",
    "def gaussianElim(A, P, L, U):\n",
    "    if A.determinant() == 0: raise Exception('Non-invertible')\n",
    "    #print(A, \" before any swaps \\n\")\n",
    "\n",
    "    (pivotIndex, pivotValue) = findBiggestPivot(A) # Find max of pivot values\n",
    "\n",
    "    permutationMatrix = buildPermutationMatrix(A.nrows(), 0, pivotIndex)\n",
    "    P.append(permutationMatrix)\n",
    "    A = permutationMatrix*A\n",
    "\n",
    "    #print(A, \" after possible swaps \\n\")\n",
    "\n",
    "    U.append(A[0])\n",
    "    L.append(eliminateBelow(A, pivotValue))\n",
    "\n",
    "    #print(A, \" after elim L = \", L, \"\\n\")\n",
    "    if A.nrows() == 1: # Condition d'arrèt, on retourne la liste de lignes\n",
    "        return (fillMatrices(P, len(U[0])), fillVectorWithZeros(L, len(U[0])), fillVectorWithZeros(U, len(U[0])))\n",
    "    return gaussianElim(A.submatrix(1, 1), P, L, U)\n",
    "\n",
    "M = Matrix(QQ, [[15, 7, 3, 4], [10, 2, 16, 2], [5, 8, 10, 7], [1, 2, 3, 5]])\n",
    "(P, L, U) = gaussianElim(M, [], [], [])\n",
    "prod(P.reverse()) * column_matrix(L) * matrix(U)\n",
    "\n",
    "\n",
    "\n"
   ]
  },
  {
   "cell_type": "code",
   "execution_count": 129,
   "metadata": {
    "vscode": {
     "languageId": "python"
    }
   },
   "outputs": [],
   "source": [
    "M = Matrix(QQ, [\n",
    "    [1, 3, 1], \n",
    "    [5, 4, 1], \n",
    "    [1, 2, 1]\n",
    "])\n",
    "b = vector([1, 1, 0])\n",
    "def findBiggestPivot(column , i): \n",
    "    L = []\n",
    "    for j in range(i, len(column)):\n",
    "        L.append((j, abs(column[j])))\n",
    "    return max(L, key = lambda x: abs(x[1]))\n",
    "\n",
    "def pivotGauss(A):\n",
    "    size = A.nrows()\n",
    "\n",
    "    for i in range(size): # Triangule la matrice\n",
    "        bestPivotIndex = findBiggestPivot(A.column(i), i)[0]\n",
    "        # Trouve le pivot le plus grand en valeur absolue de la colonne considérée\n",
    "        \n",
    "        if bestPivotIndex != i and i != size-1: \n",
    "            A.swap_rows(i, bestPivotIndex)\n",
    "        pivot = A[i, i]\n",
    "\n",
    "        # Change le pivot courant pour le plus grand en valeur absolue, sauf pour la dernière ligne\n",
    "\n",
    "        for j in range(i + 1, size):\n",
    "            coeff = -A[j, i]/pivot\n",
    "            A[j] += coeff*A[i]\n",
    "        # Elimine les valeurs en dessous du pivot\n",
    "\n",
    "    for i in range(size):  # Remonte le système\n",
    "        currentPivotIndex = size-i-1\n",
    "        A[currentPivotIndex] = A[currentPivotIndex]/float(A[currentPivotIndex, currentPivotIndex]) \n",
    "        # Divise le coefficient diagonal pour avoir un 1 sur la diagonale.\n",
    "\n",
    "        pivot = A[currentPivotIndex, currentPivotIndex]\n",
    "        for j in range(currentPivotIndex):\n",
    "            coeff = -A[j, currentPivotIndex]/pivot\n",
    "            A[j] += coeff*A[currentPivotIndex]\n",
    "        # Elimine les valeurs au dessus du pivot\n",
    "\n",
    "    return A.column(size)"
   ]
  },
  {
   "cell_type": "code",
   "execution_count": 133,
   "metadata": {
    "vscode": {
     "languageId": "python"
    }
   },
   "outputs": [
    {
     "name": "stdout",
     "output_type": "stream",
     "text": [
      "1000\n"
     ]
    }
   ],
   "source": [
    "from sage.matrix.constructor import random_echelonizable_matrix\n",
    "dimension = 10\n",
    "matrix_space = sage.matrix.matrix_space.MatrixSpace(QQ, dimension, dimension)\n",
    "# Espace des matrices aléatoires de test\n",
    "\n",
    "def luMethodTest():\n",
    "    successes = [0, 0, 0]\n",
    "    for i in range(1000):\n",
    "        A = random_matrix(QQ, 3)\n",
    "        while A.determinant() == 0:\n",
    "            A = random_matrix(QQ, 3)\n",
    "\n",
    "        P = prod(gaussianElim(A, [], [], [])[0])\n",
    "        L = column_matrix(gaussianElim(A, [], [], [])[1])\n",
    "        U = matrix(gaussianElim(A, [], [], [])[2])\n",
    "        \n",
    "        expected = A.LU(\"partial\")\n",
    "        if(P == expected[0]): successes[0] += 1\n",
    "        if(L == expected[1]): successes[1] += 1\n",
    "        if(U == expected[2]): successes[2] += 1\n",
    "\n",
    "def solveMethodTest():\n",
    "    successes = 0\n",
    "    for i in range(1000):\n",
    "        A = random_echelonizable_matrix(matrix_space, rank=dimension, upper_bound=40)\n",
    "        b = random_matrix(QQ, dimension, 1)\n",
    "\n",
    "        found = pivotGauss(A.augment(b)) # Retourne le vecteur de notre méthode (ligne)\n",
    "        foundCasted = Matrix([found[i] for i in range(len(found))]) # Retourne le vecteur de notre méthode (ligne)\n",
    "        expected = A.solve_right(b) # Retourne le vecteur exact (colonne)\n",
    "\n",
    "        error = float((foundCasted.transpose() - expected).norm())\n",
    "        if(error < 0.1): successes += 1\n",
    "    return successes\n",
    "    \n",
    "print(solveMethodTest())"
   ]
  },
  {
   "cell_type": "code",
   "execution_count": null,
   "metadata": {
    "vscode": {
     "languageId": "python"
    }
   },
   "outputs": [],
   "source": []
  }
 ],
 "metadata": {
  "kernelspec": {
   "display_name": "SageMath 9.3",
   "language": "sage",
   "name": "sagemath"
  },
  "language_info": {
   "codemirror_mode": {
    "name": "ipython",
    "version": 3
   },
   "file_extension": ".py",
   "mimetype": "text/x-python",
   "name": "sage",
   "nbconvert_exporter": "python",
   "pygments_lexer": "ipython3",
   "version": "3.7.10"
  }
 },
 "nbformat": 4,
 "nbformat_minor": 4
}
